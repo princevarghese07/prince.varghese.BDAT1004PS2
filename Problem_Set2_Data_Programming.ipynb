{
 "cells": [
  {
   "cell_type": "markdown",
   "id": "0016a642",
   "metadata": {},
   "source": [
    "Question 1\n",
    "Explanation: Since 'a' is a global variable and it persist and updates the existing value everytime it is called by function."
   ]
  },
  {
   "cell_type": "code",
   "execution_count": 46,
   "id": "547f23e0",
   "metadata": {},
   "outputs": [
    {
     "data": {
      "text/plain": [
       "6"
      ]
     },
     "execution_count": 46,
     "metadata": {},
     "output_type": "execute_result"
    }
   ],
   "source": [
    "\n",
    "a = 0\n",
    "def b():\n",
    " global a\n",
    " a = c(a)\n",
    "def c(a):\n",
    " return a + 2\n",
    "\n",
    "b()\n",
    "b()\n",
    "b()\n",
    "a"
   ]
  },
  {
   "cell_type": "markdown",
   "id": "11c1ec24",
   "metadata": {},
   "source": [
    "Question 2"
   ]
  },
  {
   "cell_type": "code",
   "execution_count": 47,
   "id": "89c31fd5",
   "metadata": {},
   "outputs": [
    {
     "name": "stdout",
     "output_type": "stream",
     "text": [
      "123\n",
      "File C:/Users/14379/Downloads/ileLength.txt not found.\n"
     ]
    }
   ],
   "source": [
    "def file_length(filename):\n",
    "    # reads data\n",
    "    try:\n",
    "        f = open(filename, 'r')\n",
    "        # reads all lines as a text\n",
    "        data = f.read()\n",
    "        result = len(data)\n",
    "        f.close()\n",
    "        return result\n",
    "    except FileNotFoundError:\n",
    "        return\"File {} not found.\".format(filename)\n",
    "\n",
    "\n",
    "print(file_length('C:/Users/prince.varghese/Downloads/FileLength.txt'))\n",
    "print(file_length('C:/Users/14379/Downloads/ileLength.txt'))"
   ]
  },
  {
   "cell_type": "markdown",
   "id": "7fe6c50b",
   "metadata": {},
   "source": [
    "Question 3"
   ]
  },
  {
   "cell_type": "code",
   "execution_count": 48,
   "id": "ac7c7fa7",
   "metadata": {},
   "outputs": [
    {
     "name": "stdout",
     "output_type": "stream",
     "text": [
      "I am a Kangaroo located at coordinates ( 0,0)\n",
      "['doll', 'firetruck', 'kitten']\n",
      "I am a Kangaroo located at coordinates ( 3,0)\n"
     ]
    }
   ],
   "source": [
    "try:    \n",
    "    class Marsupial:                 #parent class named Marsupial \n",
    "\n",
    "        def __init__(self,x,y):       #defining constructor to take input x and y variables of parent class\n",
    "            self.pouch=[]                   \n",
    "\n",
    "        def put_in_pouch(self,items):   # appending items to the empty self.pouch() list\n",
    "            self.pouch.append(items)\n",
    "\n",
    "        def pouch_contents(self):           \n",
    "            return self.pouch\n",
    "\n",
    "    class Kangaroo(Marsupial):         #creating sub-class Kangaroo \n",
    "        def __init__(self,x,y):              \n",
    "            super().__init__(x,y)     #extending Marsupial constructor to take coordinates x and y both \n",
    "            self.dx = 0                      \n",
    "            self.dy = 0                        \n",
    "\n",
    "        def jump(self,x,y):                 \n",
    "            self.dx = self.dx + x    #defining jump function to jump the coordinates of Kangaroo as per input \n",
    "            self.dy = self.dy + y\n",
    "\n",
    "        def __str__(self):          #overload the _str_ operator \n",
    "\n",
    "            return ('I am a Kangaroo located at coordinates ( {},{})'.format(self.dx,self.dy))\n",
    "\n",
    "    k = Kangaroo(0,0)\n",
    "    print(k)\n",
    "    k.put_in_pouch('doll')\n",
    "    k.put_in_pouch('firetruck')\n",
    "    k.put_in_pouch('kitten')\n",
    "    k.pouch_contents()\n",
    "    print(k.pouch)  \n",
    "    k.jump(1,0)\n",
    "    k.jump(1,0)\n",
    "    k.jump(1,0)\n",
    "    print(k)\n",
    "except Exception as e:\n",
    "    print(\"Oops!\", e.__class__, \"error occurred.\") \n"
   ]
  },
  {
   "cell_type": "markdown",
   "id": "42332236",
   "metadata": {},
   "source": [
    "Question4"
   ]
  },
  {
   "cell_type": "code",
   "execution_count": 49,
   "id": "b82d1209",
   "metadata": {},
   "outputs": [
    {
     "name": "stdout",
     "output_type": "stream",
     "text": [
      "1\n",
      "10\n",
      "5\n",
      "16\n",
      "8\n",
      "4\n",
      "2\n",
      "1\n"
     ]
    }
   ],
   "source": [
    "try:\n",
    "    def collatz (x):\n",
    "        if(x != 1):\n",
    "            print(x ,end ='\\n')\n",
    "        if(x == 1):\n",
    "            print(x ,end ='\\n')\n",
    "            return x\n",
    "        if(x%2 == 0):\n",
    "            x = x // 2\n",
    "            collatz(x)\n",
    "        else:\n",
    "            x= 3*x + 1\n",
    "            collatz(x)\n",
    "\n",
    "\n",
    "    collatz(1)\n",
    "    collatz(10)\n",
    "except Exception as e:\n",
    "    print(\"Oops!\", e.__class__, \"error occurred.\")      "
   ]
  },
  {
   "cell_type": "markdown",
   "id": "8e6fbbc7",
   "metadata": {},
   "source": [
    "Question 5"
   ]
  },
  {
   "cell_type": "code",
   "execution_count": 12,
   "id": "0c411c66",
   "metadata": {},
   "outputs": [
    {
     "name": "stdout",
     "output_type": "stream",
     "text": [
      "0\n",
      "1\n",
      "11\n",
      "1001\n"
     ]
    }
   ],
   "source": [
    "try:    \n",
    "    var_binary =\"\"\n",
    "    def binary (n):\n",
    "        global var_binary\n",
    "        if(n!=1): # if given number not equal to 1\n",
    "            if(n==0):\n",
    "                print(\"0\")\n",
    "            else:\n",
    "                x=\"\"\n",
    "                remainder = int(n%2)\n",
    "                x =str(remainder)\n",
    "                var_binary+=x\n",
    "                n =int(n/2)\n",
    "                binary(n)\n",
    "        else:\n",
    "            var_binary +=\"1\"\n",
    "            var_binary = var_binary [::-1] \n",
    "            print(var_binary)\n",
    "            var_binary=\"\"\n",
    "\n",
    "    binary(0)\n",
    "    binary(1)\n",
    "    binary(3)\n",
    "    binary(9)\n",
    "except Exception as e:\n",
    "    print(\"Oops!\", e.__class__, \"occurred.\")    "
   ]
  },
  {
   "cell_type": "markdown",
   "id": "f52edd8b",
   "metadata": {},
   "source": [
    "Question 6"
   ]
  },
  {
   "cell_type": "code",
   "execution_count": 50,
   "id": "d59f6cfb",
   "metadata": {},
   "outputs": [
    {
     "name": "stdout",
     "output_type": "stream",
     "text": [
      "W3C Mission\n",
      "\tPrinciples\n"
     ]
    }
   ],
   "source": [
    "try:\n",
    "    from html.parser import HTMLParser\n",
    "    y1='False'\n",
    "    y2='False'\n",
    "    class HeadingParser(HTMLParser):  #class heading parser\n",
    "        def handle_starttag(self, tag, attrs):\n",
    "            if tag == 'h1':\n",
    "                global y1\n",
    "                y1 = \"True\"\n",
    "            if tag == 'h2':\n",
    "                global y2\n",
    "                y2 = \"True\"  \n",
    "        def handle_endtag(self, tag):\n",
    "            if y1 == \"False\":\n",
    "                pass\n",
    "            if y2 == \"False\":\n",
    "                pass\n",
    "        def handle_data(self, data):\n",
    "            global y1,y2\n",
    "            if y1 == \"True\": \n",
    "                print(data)\n",
    "                y1='False'    \n",
    "            if y2 == \"True\":        \n",
    "                print('\\t',end='')\n",
    "                print(data)\n",
    "                y2 = 'False'\n",
    "    filename = 'C:/Users/prince.varghese/Downloads/w3c.html'           \n",
    "    infile = open(filename) \n",
    "    content = infile.read() \n",
    "    infile.close() \n",
    "    hp = HeadingParser() \n",
    "    hp.feed(content)\n",
    "except FileNotFoundError:\n",
    "    print(\"File {} not found.\".format(filename))   "
   ]
  },
  {
   "cell_type": "markdown",
   "id": "4dce37a4",
   "metadata": {},
   "source": [
    "Question7"
   ]
  },
  {
   "cell_type": "code",
   "execution_count": 51,
   "id": "c66da9fa",
   "metadata": {},
   "outputs": [
    {
     "name": "stdout",
     "output_type": "stream",
     "text": [
      "http://reed.cs.depaul.edu/lperkovic/test1.html\n",
      " http://reed.cs.depaul.edu/lperkovic/test2.html\n",
      "  http://reed.cs.depaul.edu/lperkovic/test4.html\n",
      " http://reed.cs.depaul.edu/lperkovic/test3.html\n",
      "  http://reed.cs.depaul.edu/lperkovic/test4.html\n"
     ]
    }
   ],
   "source": [
    "try:    \n",
    "    from urllib.request import urlopen\n",
    "    from urllib.parse import urljoin\n",
    "    from urllib.error import URLError\n",
    "    from html.parser import HTMLParser\n",
    "\n",
    "    class MainFunction(HTMLParser):\n",
    "\n",
    "        def __init__(self, giv_URL):\n",
    "\n",
    "            HTMLParser.__init__(self)\n",
    "            self.givenURL = giv_URL\n",
    "            self.availableLinks = []\n",
    "\n",
    "        def catchLinks(self):\n",
    "            return self.availableLinks\n",
    "\n",
    "        def handle_starttag(self, tag, attrs):\n",
    "            if tag == 'a':\n",
    "                for attr in attrs:          \n",
    "                    if attr[0] == 'href': \n",
    "                        absolute = urljoin(self.givenURL, attr[1])\n",
    "                        if absolute[:4] == 'http':\n",
    "                            self.availableLinks.append(absolute)\n",
    "\n",
    "\n",
    "    all_Links = []\n",
    "    def webdir(giv_URL,depth,index):\n",
    "        global all_Links\n",
    "        res = urlopen(giv_URL)\n",
    "        cont = res.read().decode()\n",
    "        c =MainFunction(giv_URL)\n",
    "        c.feed(cont)\n",
    "        all_Links = c.catchLinks()\n",
    "        print(index*\" \" + giv_URL)\n",
    "        if depth == 0:\n",
    "             return \n",
    "        for i in all_Links: \n",
    "            webdir(i, depth-1, index+1)    \n",
    "\n",
    "\n",
    "    webdir('http://reed.cs.depaul.edu/lperkovic/test1.html',2,0)\n",
    "except URLError as e:\n",
    "    print(e.reason)     "
   ]
  },
  {
   "cell_type": "markdown",
   "id": "46ee300d",
   "metadata": {},
   "source": [
    "Question  8\n"
   ]
  },
  {
   "cell_type": "code",
   "execution_count": 52,
   "id": "5a0bb26d",
   "metadata": {},
   "outputs": [
    {
     "name": "stdout",
     "output_type": "stream",
     "text": [
      "(24.8,)(28.4,)(27.9,)(27.6,)(4.2,)(8.3,)(15.7,)(10.4,)(13.6,)(20.7,)(27.7,)(22.2,)\n",
      "('Mumbai',)('London',)('Cairo',)\n",
      "('Mumbai', 'India', 'Winter', 24.8, 5.9)('Mumbai', 'India', 'Spring', 28.4, 16.2)('Mumbai', 'India', 'Summer', 27.9, 1549.4)('Mumbai', 'India', 'Fall', 27.6, 346)\n",
      "('Mumbai', 'India', 'Fall', 27.6, 346)('London', 'United Kingdom', 'Fall', 10.4, 218.5)('Cairo', 'Egypt', 'Fall', 22.2, 4.5)\n",
      "('Mumbai', 'India', 'Fall')('London', 'United Kingdom', 'Winter')('London', 'United Kingdom', 'Fall')\n",
      "('Cairo', 'Egypt')('Mumbai', 'India')\n",
      "(27.6,)\n",
      "('Fall', 569.0)('Spring', 192.29999999999998)('Summer', 1706.5)('Winter', 230.1)"
     ]
    }
   ],
   "source": [
    "import sqlite3\n",
    "conn = sqlite3.connect('trial.db')\n",
    "conn.execute('''\n",
    "CREATE TABLE IF NOT EXISTS city_table(city text, \n",
    "                      country text, \n",
    "                      season integer, \n",
    "                      temperature integer,\n",
    "                      rainfall integer);''')\n",
    "conn.commit()\n",
    "cur = conn.cursor()\n",
    "conn.execute(\"INSERT INTO city_table VALUES('Mumbai', 'India', 'Winter', 24.8, 5.9);\")\n",
    "conn.execute(\"INSERT INTO city_table VALUES('Mumbai', 'India', 'Spring', 28.4, 16.2);\")\n",
    "conn.execute(\"INSERT INTO city_table VALUES('Mumbai', 'India', 'Summer', 27.9, 1549.4);\")\n",
    "conn.execute(\"INSERT INTO city_table VALUES('Mumbai', 'India', 'Fall', 27.6, 346.0);\")\n",
    "conn.execute(\"INSERT INTO city_table VALUES('London', 'United Kingdom', 'Winter', 4.2, 207.7);\")\n",
    "conn.execute(\"INSERT INTO city_table VALUES('London', 'United Kingdom', 'Spring', 8.3, 169.6 );\")\n",
    "conn.execute(\"INSERT INTO city_table VALUES('London', 'United Kingdom', 'Summer', 15.7, 157.0);\")\n",
    "conn.execute(\"INSERT INTO city_table VALUES('London', 'United Kingdom', 'Fall', 10.4, 218.5);\")\n",
    "conn.execute(\"INSERT INTO city_table VALUES('Cairo', 'Egypt', 'Winter', 13.6, 16.5);\")\n",
    "conn.execute(\"INSERT INTO city_table VALUES('Cairo', 'Egypt', 'Spring', 20.7, 6.5);\")\n",
    "conn.execute(\"INSERT INTO city_table VALUES('Cairo', 'Egypt', 'Summer', 27.7, 0.1);\")\n",
    "conn.execute(\"INSERT INTO city_table VALUES('Cairo', 'Egypt', 'Fall', 22.2, 4.5);\")\n",
    "\n",
    "cur.execute(\"SELECT temperature from city_table\")\n",
    "my_output =cur.fetchall()             #part a\n",
    "for x in my_output:\n",
    "  print(x, end=\"\")\n",
    "\n",
    "print()\n",
    "cur.execute(\"SELECT DISTINCT(city) from city_table\")\n",
    "my_output = cur.fetchall()\n",
    "for x in my_output:                          #part b\n",
    "  print(x, end=\"\")\n",
    "\n",
    "print()\n",
    "cur.execute(\"SELECT * from city_table where country = 'India'\")\n",
    "my_output = cur.fetchall()\n",
    "for x in my_output:                             #part c\n",
    "  print(x, end=\"\")\n",
    "\n",
    "print()\n",
    "cur.execute(\"SELECT * from city_table where season = 'Fall'\")\n",
    "my_output = cur.fetchall()\n",
    "for x in my_output:                             #part d\n",
    "  print(x, end=\"\")\n",
    "\n",
    "print()\n",
    "cur.execute(\"SELECT city,country,season from city_table where rainfall BETWEEN 200 and 400\")\n",
    "my_output = cur.fetchall()\n",
    "for x in my_output:                                 #part e\n",
    "  print(x, end=\"\")\n",
    "\n",
    "print()\n",
    "cur.execute(\"SELECT city,country from city_table where (season = 'Fall' and temperature > 20) Order BY temperature ASC \")\n",
    "my_output = cur.fetchall()\n",
    "for x in my_output:                                #part f\n",
    "  print(x, end=\"\")\n",
    "\n",
    "print()\n",
    "cur.execute(\"SELECT sum(rainfall) from city_table where city = 'Cairo'\")\n",
    "my_output = cur.fetchall()\n",
    "for x in my_output:\n",
    "  print(x, end=\"\")                                      #part g\n",
    "\n",
    "print()\n",
    "cur.execute(\"SELECT season, sum(rainfall) from city_table group by season\")\n",
    "my_output = cur.fetchall()\n",
    "for x in my_output:                                   #part h\n",
    "  print(x, end=\"\")\n",
    "\n",
    "conn.close()\n"
   ]
  },
  {
   "cell_type": "markdown",
   "id": "d2531b13",
   "metadata": {},
   "source": [
    "Question 9"
   ]
  },
  {
   "cell_type": "code",
   "execution_count": 53,
   "id": "0c0b4050",
   "metadata": {},
   "outputs": [
    {
     "name": "stdout",
     "output_type": "stream",
     "text": [
      "['THE', 'QUICK', 'BROWN', 'FOX', 'JUMPS', 'OVER', 'THE', 'LAZY', 'DOG']\n",
      "['the', 'quick', 'brown', 'fox', 'jumps', 'over', 'the', 'lazy', 'dog']\n",
      "[3, 5, 5, 3, 5, 4, 3, 4, 3]\n",
      "[['THE', 'the', 3], ['QUICK', 'quick', 5], ['BROWN', 'brown', 5], ['FOX', 'fox', 3], ['JUMPS', 'jumps', 5], ['OVER', 'over', 4], ['THE', 'the', 3], ['LAZY', 'lazy', 4], ['DOG', 'dog', 3]]\n",
      "['quick', 'brown', 'jumps', 'over', 'lazy']\n"
     ]
    }
   ],
   "source": [
    "words = ['The', 'quick', 'brown', 'fox', 'jumps', 'over', 'the', 'lazy', 'dog']\n",
    "output_a = []\n",
    "output_b = []\n",
    "output_c = []\n",
    "output_d = []\n",
    "output_e = []\n",
    "for x in words:\n",
    "    output_a.append(x.upper())\n",
    "    output_b.append(x.lower())\n",
    "    len_x = (len(x))\n",
    "    output_c.append(len_x)\n",
    "    if len_x >= 4:\n",
    "        output_e.append(x)\n",
    "    lst=[]\n",
    "    lst.append(x.upper())\n",
    "    lst.append(x.lower())\n",
    "    lst.append(len(x))\n",
    "    output_d.append(lst)\n",
    "\n",
    "print(output_a, end='\\n')\n",
    "print(output_b, end='\\n')\n",
    "print(output_c, end='\\n')\n",
    "print(output_d, end='\\n')\n",
    "print(output_e, end='\\n')"
   ]
  },
  {
   "cell_type": "code",
   "execution_count": null,
   "id": "3874e121",
   "metadata": {},
   "outputs": [],
   "source": []
  }
 ],
 "metadata": {
  "kernelspec": {
   "display_name": "Python 3 (ipykernel)",
   "language": "python",
   "name": "python3"
  },
  "language_info": {
   "codemirror_mode": {
    "name": "ipython",
    "version": 3
   },
   "file_extension": ".py",
   "mimetype": "text/x-python",
   "name": "python",
   "nbconvert_exporter": "python",
   "pygments_lexer": "ipython3",
   "version": "3.8.0"
  }
 },
 "nbformat": 4,
 "nbformat_minor": 5
}
